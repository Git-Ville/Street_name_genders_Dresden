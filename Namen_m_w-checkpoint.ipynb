{
 "cells": [
  {
   "cell_type": "code",
   "execution_count": 151,
   "id": "60726764-0579-48f2-9138-7f9789b1f580",
   "metadata": {
    "tags": []
   },
   "outputs": [],
   "source": [
    "import pandas\n",
    "import re\n",
    "import spacy"
   ]
  },
  {
   "cell_type": "code",
   "execution_count": 152,
   "id": "84260607-c3fc-4e1e-a4df-c12a7cfb895c",
   "metadata": {
    "tags": []
   },
   "outputs": [],
   "source": [
    "# TXT-Datei einlesen\n",
    "with open('../Datenkompetenz_Räumliche_Analyse/Daten/liste.txt', 'r') as file:\n",
    "    liste = file.read()"
   ]
  },
  {
   "cell_type": "code",
   "execution_count": 153,
   "id": "263b0f2e-bf19-4381-9690-f3713ec28819",
   "metadata": {
    "tags": []
   },
   "outputs": [],
   "source": [
    "#löchen alle \\n\n",
    "liste = liste.replace(\"\\n\", \" \")"
   ]
  },
  {
   "cell_type": "code",
   "execution_count": 154,
   "id": "b94563ee-caef-4638-ac8b-de2a1bbe4dc5",
   "metadata": {
    "tags": []
   },
   "outputs": [],
   "source": [
    "#jedes mal, wenn im Text das Datum vorkommt wird ein Zeilenumbruch eingesetzt\n",
    "liste = re.sub(r'(\\* \\d+\\t\\+ \\d+)', r'\\1\\n', liste)"
   ]
  },
  {
   "cell_type": "code",
   "execution_count": 155,
   "id": "e945351b-4f15-4ef8-9a9e-132581953b80",
   "metadata": {
    "tags": []
   },
   "outputs": [],
   "source": [
    "#eine Liste erstellen\n",
    "liste_list = liste.split(\"\\n\")"
   ]
  },
  {
   "cell_type": "code",
   "execution_count": 156,
   "id": "7c72c57b-dc89-418c-b147-cad1931f3da8",
   "metadata": {
    "tags": []
   },
   "outputs": [],
   "source": [
    "#DataFrame erstellen\n",
    "liste_tabelle = pandas.DataFrame(liste_list, columns = [\"Text\"])"
   ]
  },
  {
   "cell_type": "code",
   "execution_count": 157,
   "id": "0c667a8d-c57b-4233-baf7-382cc4834183",
   "metadata": {
    "tags": []
   },
   "outputs": [],
   "source": [
    "# Extrahieren des ersten Worts und Speichern in einer neuen Spalte \"Erstes Wort\" und rest wird in der Spalte \"Rest\"\n",
    "#um die Tebelle weiter auszuwerten, da ständig die Fehlmeldungen immer wieder kommen\n",
    "liste_tabelle[\"Straßenname\"] = liste_tabelle['Text'].str.split().str[0]\n",
    "liste_tabelle['Rest'] = liste_tabelle['Text'].str.split(n=1).str[1]"
   ]
  },
  {
   "cell_type": "code",
   "execution_count": 158,
   "id": "e2284e04-bdfc-42ef-86f9-c6d47848a4bd",
   "metadata": {
    "tags": []
   },
   "outputs": [],
   "source": [
    "jahr_data = liste_tabelle['Rest'].str.extract(r'\\* (\\d+)\\t\\+ (\\d+)', expand=False)\n",
    "liste_tabelle['Jahr'] = '* ' + jahr_data[0] + '\\t+ ' + jahr_data[1]"
   ]
  },
  {
   "cell_type": "code",
   "execution_count": 159,
   "id": "8cda375b-cc89-491e-a415-c83358aa8ef7",
   "metadata": {
    "tags": []
   },
   "outputs": [
    {
     "data": {
      "text/html": [
       "<div>\n",
       "<style scoped>\n",
       "    .dataframe tbody tr th:only-of-type {\n",
       "        vertical-align: middle;\n",
       "    }\n",
       "\n",
       "    .dataframe tbody tr th {\n",
       "        vertical-align: top;\n",
       "    }\n",
       "\n",
       "    .dataframe thead th {\n",
       "        text-align: right;\n",
       "    }\n",
       "</style>\n",
       "<table border=\"1\" class=\"dataframe\">\n",
       "  <thead>\n",
       "    <tr style=\"text-align: right;\">\n",
       "      <th></th>\n",
       "      <th>Text</th>\n",
       "      <th>Straßenname</th>\n",
       "      <th>Rest</th>\n",
       "      <th>Jahr</th>\n",
       "    </tr>\n",
       "  </thead>\n",
       "  <tbody>\n",
       "    <tr>\n",
       "      <th>0</th>\n",
       "      <td>Abbestraße Ernst Abbe Physiker und Industriell...</td>\n",
       "      <td>Abbestraße</td>\n",
       "      <td>Ernst Abbe Physiker und Industrieller * 1840\\t...</td>\n",
       "      <td>* 1840\\t+ 1905</td>\n",
       "    </tr>\n",
       "    <tr>\n",
       "      <th>1</th>\n",
       "      <td>Ackermannstraße Karl Gustav Ackermann Jurist,...</td>\n",
       "      <td>Ackermannstraße</td>\n",
       "      <td>Karl Gustav Ackermann Jurist, Vorsteher der St...</td>\n",
       "      <td>* 1820\\t+ 1901</td>\n",
       "    </tr>\n",
       "    <tr>\n",
       "      <th>2</th>\n",
       "      <td>Adalbert-Stifter-Weg Adalbert Stifter Österre...</td>\n",
       "      <td>Adalbert-Stifter-Weg</td>\n",
       "      <td>Adalbert Stifter Österreichischer Dichter und ...</td>\n",
       "      <td>* 1805\\t+ 1868</td>\n",
       "    </tr>\n",
       "    <tr>\n",
       "      <th>3</th>\n",
       "      <td>Adolfstraße Adolf Franze Gutsbesitzer und Gem...</td>\n",
       "      <td>Adolfstraße</td>\n",
       "      <td>Adolf Franze Gutsbesitzer und Gemeinderat in K...</td>\n",
       "      <td>* 1894\\t+ 1950</td>\n",
       "    </tr>\n",
       "    <tr>\n",
       "      <th>4</th>\n",
       "      <td>Albert-Fromme-Weg  Albert Fromme Chirurg, Ehr...</td>\n",
       "      <td>Albert-Fromme-Weg</td>\n",
       "      <td>Albert Fromme Chirurg, Ehrendoktor der Medizin...</td>\n",
       "      <td>* 1881\\t+ 1966</td>\n",
       "    </tr>\n",
       "  </tbody>\n",
       "</table>\n",
       "</div>"
      ],
      "text/plain": [
       "                                                Text           Straßenname  \\\n",
       "0  Abbestraße Ernst Abbe Physiker und Industriell...            Abbestraße   \n",
       "1   Ackermannstraße Karl Gustav Ackermann Jurist,...       Ackermannstraße   \n",
       "2   Adalbert-Stifter-Weg Adalbert Stifter Österre...  Adalbert-Stifter-Weg   \n",
       "3   Adolfstraße Adolf Franze Gutsbesitzer und Gem...           Adolfstraße   \n",
       "4   Albert-Fromme-Weg  Albert Fromme Chirurg, Ehr...     Albert-Fromme-Weg   \n",
       "\n",
       "                                                Rest            Jahr  \n",
       "0  Ernst Abbe Physiker und Industrieller * 1840\\t...  * 1840\\t+ 1905  \n",
       "1  Karl Gustav Ackermann Jurist, Vorsteher der St...  * 1820\\t+ 1901  \n",
       "2  Adalbert Stifter Österreichischer Dichter und ...  * 1805\\t+ 1868  \n",
       "3  Adolf Franze Gutsbesitzer und Gemeinderat in K...  * 1894\\t+ 1950  \n",
       "4  Albert Fromme Chirurg, Ehrendoktor der Medizin...  * 1881\\t+ 1966  "
      ]
     },
     "execution_count": 159,
     "metadata": {},
     "output_type": "execute_result"
    }
   ],
   "source": [
    "liste_tabelle.head()"
   ]
  },
  {
   "cell_type": "markdown",
   "id": "632c4ffa-b1ba-45b8-ae7e-aa54e1c30391",
   "metadata": {
    "tags": []
   },
   "source": [
    "ich möchte jetzt so wiel wie möglich alles bereinigen, dass ich eine liste mit Berufe erstellen konnte, um das Geschlecht von Personen herausfinden\n",
    "dafür soll:\n",
    "1. Jahr löchen"
   ]
  },
  {
   "cell_type": "code",
   "execution_count": 160,
   "id": "8d2bcef7-c42d-4d53-9347-d583130c151f",
   "metadata": {
    "tags": []
   },
   "outputs": [],
   "source": [
    "#suchen nach Berufe\n",
    "beruf = liste_tabelle[\"Rest\"].tolist()"
   ]
  },
  {
   "cell_type": "code",
   "execution_count": 161,
   "id": "c0373e27-b77a-4b08-bab3-f0cb7f7d2588",
   "metadata": {
    "tags": []
   },
   "outputs": [],
   "source": [
    "bereinigte_liste = []\n",
    "for eintrag in beruf:\n",
    "    if isinstance(eintrag, str):\n",
    "        bereinigter_eintrag = eintrag.split('*')[0].strip()\n",
    "        bereinigte_liste.append(bereinigter_eintrag)\n",
    "\n",
    "#print(bereinigte_liste)"
   ]
  },
  {
   "cell_type": "code",
   "execution_count": 162,
   "id": "7864d636-04bb-4473-966c-4254f3e8e2c3",
   "metadata": {
    "tags": []
   },
   "outputs": [
    {
     "name": "stdout",
     "output_type": "stream",
     "text": [
      "['Schriftstellerin', 'Botanikerin', 'Schriftstellerin', 'Frauenrechtlerin', 'Malerin', 'Grafikerin', 'Malerin', 'Fürbitterin', 'Schriftstellerin', 'Stifterin', 'Wohltäterin', 'Seminarvorsteherin', 'Schriftstellerin', 'Malerin', 'Malerin', 'Hochschullehrerin', 'Schriftstellerin', 'Frauenrechtlerin', 'Porträtmalerin', 'Kammersängerin', 'Tänzerin', 'Dichterin', 'Kammersängerin', 'Malerin', 'Leiterin', 'Tierbildhauerin', 'Zeichnerin', 'Malerin', 'Schriftstellerin', 'Frauenrechtlerin', 'Wegbereiterin', 'Rittergutsbesitzerin', 'Tänzerin', 'Ehrenbürgerin', 'Begründerin', 'Inhaberin', 'Stifterin', 'Mitbegründerin', 'Widerstandskämpferin', 'Schriftstellerin', 'Frauenrechtlerin', 'Malerin', 'Bildhauerin', 'Wohltäterin', 'Stifterin', 'Ehrenbürgerin', 'Atom-Physikerin', 'Forscherin', 'Schauspielerin', 'Malerin', 'Schriftstellerin', 'Sängerin', 'Entdeckerin', 'Schriftstellerin', 'Erforscherin', 'Nobelpreisträgerin', 'Esperanto-Dichterin', 'Begründerin', 'Frauenrechtlerin', 'Sängerin', 'Mitarbeiterin', 'Tänzerin', 'Schriftstellerin', 'Erfinderin', 'Naturforscherin', 'Stifterin', 'Schauspielerin', 'Stifterin', 'Lyrikerin', 'Schriftstellerin', 'Erzählerin', 'Kunsthistorikerin', 'Politikerin', 'Führerin', 'Kommunalpolitikerin', 'Stifterin', 'Wohltäterin', 'Stifterin', 'Kammersängerin', 'Politikerin', 'Schauspielerin', 'Hofschauspielerin', 'Ballonfahrerin']\n",
      "83\n"
     ]
    }
   ],
   "source": [
    "#in der Lister werden alle Wörter gesucht, die mit -erin enden, so finden wir alle Berufe von Frauen\n",
    "ergebnis = []\n",
    "\n",
    "for wort in bereinigte_liste:\n",
    "    wortliste = wort.split()\n",
    "    for w in wortliste:\n",
    "        if w.lower().endswith(\"erin\"):\n",
    "            ergebnis.append(w)\n",
    "\n",
    "print(ergebnis)\n",
    "print(len(ergebnis))"
   ]
  },
  {
   "cell_type": "code",
   "execution_count": 163,
   "id": "cfe81732-648e-4b0a-822a-cdc28f2581d7",
   "metadata": {
    "tags": []
   },
   "outputs": [
    {
     "data": {
      "text/plain": [
       "list"
      ]
     },
     "execution_count": 163,
     "metadata": {},
     "output_type": "execute_result"
    }
   ],
   "source": [
    "type(ergebnis)"
   ]
  },
  {
   "cell_type": "code",
   "execution_count": 164,
   "id": "2fba2d01-c11b-4588-a64c-06846b935b63",
   "metadata": {
    "tags": []
   },
   "outputs": [],
   "source": [
    "#jetzt werden alle straßen gesucht, wo in der Spalte REST die Beruf von Frau "
   ]
  },
  {
   "cell_type": "code",
   "execution_count": 166,
   "id": "ec114e2b-81b4-4649-9346-298f4533d5af",
   "metadata": {
    "tags": []
   },
   "outputs": [
    {
     "data": {
      "text/html": [
       "<div>\n",
       "<style scoped>\n",
       "    .dataframe tbody tr th:only-of-type {\n",
       "        vertical-align: middle;\n",
       "    }\n",
       "\n",
       "    .dataframe tbody tr th {\n",
       "        vertical-align: top;\n",
       "    }\n",
       "\n",
       "    .dataframe thead th {\n",
       "        text-align: right;\n",
       "    }\n",
       "</style>\n",
       "<table border=\"1\" class=\"dataframe\">\n",
       "  <thead>\n",
       "    <tr style=\"text-align: right;\">\n",
       "      <th></th>\n",
       "      <th>Text</th>\n",
       "      <th>Straßenname</th>\n",
       "      <th>Rest</th>\n",
       "      <th>Jahr</th>\n",
       "    </tr>\n",
       "  </thead>\n",
       "  <tbody>\n",
       "    <tr>\n",
       "      <th>0</th>\n",
       "      <td>Abbestraße Ernst Abbe Physiker und Industriell...</td>\n",
       "      <td>Abbestraße</td>\n",
       "      <td>Ernst Abbe Physiker und Industrieller * 1840\\t...</td>\n",
       "      <td>* 1840\\t+ 1905</td>\n",
       "    </tr>\n",
       "    <tr>\n",
       "      <th>1</th>\n",
       "      <td>Ackermannstraße Karl Gustav Ackermann Jurist,...</td>\n",
       "      <td>Ackermannstraße</td>\n",
       "      <td>Karl Gustav Ackermann Jurist, Vorsteher der St...</td>\n",
       "      <td>* 1820\\t+ 1901</td>\n",
       "    </tr>\n",
       "    <tr>\n",
       "      <th>2</th>\n",
       "      <td>Adalbert-Stifter-Weg Adalbert Stifter Österre...</td>\n",
       "      <td>Adalbert-Stifter-Weg</td>\n",
       "      <td>Adalbert Stifter Österreichischer Dichter und ...</td>\n",
       "      <td>* 1805\\t+ 1868</td>\n",
       "    </tr>\n",
       "    <tr>\n",
       "      <th>3</th>\n",
       "      <td>Adolfstraße Adolf Franze Gutsbesitzer und Gem...</td>\n",
       "      <td>Adolfstraße</td>\n",
       "      <td>Adolf Franze Gutsbesitzer und Gemeinderat in K...</td>\n",
       "      <td>* 1894\\t+ 1950</td>\n",
       "    </tr>\n",
       "    <tr>\n",
       "      <th>4</th>\n",
       "      <td>Albert-Fromme-Weg  Albert Fromme Chirurg, Ehr...</td>\n",
       "      <td>Albert-Fromme-Weg</td>\n",
       "      <td>Albert Fromme Chirurg, Ehrendoktor der Medizin...</td>\n",
       "      <td>* 1881\\t+ 1966</td>\n",
       "    </tr>\n",
       "  </tbody>\n",
       "</table>\n",
       "</div>"
      ],
      "text/plain": [
       "                                                Text           Straßenname  \\\n",
       "0  Abbestraße Ernst Abbe Physiker und Industriell...            Abbestraße   \n",
       "1   Ackermannstraße Karl Gustav Ackermann Jurist,...       Ackermannstraße   \n",
       "2   Adalbert-Stifter-Weg Adalbert Stifter Österre...  Adalbert-Stifter-Weg   \n",
       "3   Adolfstraße Adolf Franze Gutsbesitzer und Gem...           Adolfstraße   \n",
       "4   Albert-Fromme-Weg  Albert Fromme Chirurg, Ehr...     Albert-Fromme-Weg   \n",
       "\n",
       "                                                Rest            Jahr  \n",
       "0  Ernst Abbe Physiker und Industrieller * 1840\\t...  * 1840\\t+ 1905  \n",
       "1  Karl Gustav Ackermann Jurist, Vorsteher der St...  * 1820\\t+ 1901  \n",
       "2  Adalbert Stifter Österreichischer Dichter und ...  * 1805\\t+ 1868  \n",
       "3  Adolf Franze Gutsbesitzer und Gemeinderat in K...  * 1894\\t+ 1950  \n",
       "4  Albert Fromme Chirurg, Ehrendoktor der Medizin...  * 1881\\t+ 1966  "
      ]
     },
     "execution_count": 166,
     "metadata": {},
     "output_type": "execute_result"
    }
   ],
   "source": [
    "liste_tabelle.head()"
   ]
  },
  {
   "cell_type": "code",
   "execution_count": 167,
   "id": "679ec84a-eb5c-4a6d-b8a0-b38bf12fc94d",
   "metadata": {
    "tags": []
   },
   "outputs": [],
   "source": [
    "# Gewünschte PLZs\n",
    "#desired_plzs = [1219, 1069, 1326, 1139, 1307]\n",
    "\n",
    "# Filtern der Tabelle basierend auf den gewünschten PLZs\n",
    "filtered_rows = liste_tabelle[liste_tabelle['Rest'].isin(ergebnis)]\n",
    "\n",
    "# Extrahieren der Werte aus der Spalte \"geometry\"\n",
    "desired_geometries = filtered_rows['Straßenname']\n"
   ]
  },
  {
   "cell_type": "code",
   "execution_count": 168,
   "id": "2f8c4d3d-72f2-4e56-8b8f-f5bd4fae54e8",
   "metadata": {
    "tags": []
   },
   "outputs": [
    {
     "data": {
      "text/plain": [
       "Series([], Name: Straßenname, dtype: object)"
      ]
     },
     "execution_count": 168,
     "metadata": {},
     "output_type": "execute_result"
    }
   ],
   "source": [
    "desired_geometries"
   ]
  },
  {
   "cell_type": "code",
   "execution_count": null,
   "id": "f797f6fd-1296-4d48-830c-85da3da2beeb",
   "metadata": {},
   "outputs": [],
   "source": []
  }
 ],
 "metadata": {
  "kernelspec": {
   "display_name": "Python 3 (ipykernel)",
   "language": "python",
   "name": "python3"
  },
  "language_info": {
   "codemirror_mode": {
    "name": "ipython",
    "version": 3
   },
   "file_extension": ".py",
   "mimetype": "text/x-python",
   "name": "python",
   "nbconvert_exporter": "python",
   "pygments_lexer": "ipython3",
   "version": "3.10.8"
  }
 },
 "nbformat": 4,
 "nbformat_minor": 5
}
